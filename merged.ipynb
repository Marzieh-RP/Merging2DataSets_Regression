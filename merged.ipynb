{
  "nbformat": 4,
  "nbformat_minor": 0,
  "metadata": {
    "colab": {
      "name": "merged.ipynb",
      "provenance": [],
      "collapsed_sections": []
    },
    "kernelspec": {
      "name": "python3",
      "display_name": "Python 3"
    },
    "language_info": {
      "name": "python"
    }
  },
  "cells": [
    {
      "cell_type": "markdown",
      "metadata": {
        "id": "XJzB_Khbm_5Q"
      },
      "source": [
        "# **Merging two datasets**\n",
        "In this file I have merged the two dataframes on Line name and origin keys \n",
        "then I have converted categorical variables to numerical ones, replaced missing vales with their mode and scaled the data set. Afterwards I have  applied linear regression"
      ]
    },
    {
      "cell_type": "markdown",
      "metadata": {
        "id": "qBFn90Uj5NBZ"
      },
      "source": [
        "#* Reading the Adjusted_2019_Boardings.csv dataset and looking at first few rows* "
      ]
    },
    {
      "cell_type": "code",
      "metadata": {
        "colab": {
          "resources": {
            "http://localhost:8080/nbextensions/google.colab/files.js": {
              "data": "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",
              "ok": true,
              "headers": [
                [
                  "content-type",
                  "application/javascript"
                ]
              ],
              "status": 200,
              "status_text": ""
            }
          },
          "base_uri": "https://localhost:8080/",
          "height": 72
        },
        "id": "zXfiK3_HtJ8I",
        "outputId": "f6c4e26d-74d5-4e35-fa8f-5bf4b90516d7"
      },
      "source": [
        "\n",
        "from google.colab import files\n",
        "import pandas as pd   \n",
        "import io\n",
        "uploaded = files.upload()\n",
        "df = pd.read_csv(io.BytesIO(uploaded[\"Adjusted_2019_Boardings.csv\"]))\n",
        "dftemp=df.copy()"
      ],
      "execution_count": null,
      "outputs": [
        {
          "output_type": "display_data",
          "data": {
            "text/html": [
              "\n",
              "     <input type=\"file\" id=\"files-65cc1cc0-619c-44fb-8aa8-8fdc61923255\" name=\"files[]\" multiple disabled\n",
              "        style=\"border:none\" />\n",
              "     <output id=\"result-65cc1cc0-619c-44fb-8aa8-8fdc61923255\">\n",
              "      Upload widget is only available when the cell has been executed in the\n",
              "      current browser session. Please rerun this cell to enable.\n",
              "      </output>\n",
              "      <script src=\"/nbextensions/google.colab/files.js\"></script> "
            ],
            "text/plain": [
              "<IPython.core.display.HTML object>"
            ]
          },
          "metadata": {
            "tags": []
          }
        },
        {
          "output_type": "stream",
          "text": [
            "Saving Adjusted_2019_Boardings.csv to Adjusted_2019_Boardings.csv\n"
          ],
          "name": "stdout"
        }
      ]
    },
    {
      "cell_type": "code",
      "metadata": {
        "colab": {
          "base_uri": "https://localhost:8080/",
          "height": 204
        },
        "id": "2ZmrbNqLF2h6",
        "outputId": "56134b44-fe5a-454c-c266-bdcfaf7da563"
      },
      "source": [
        "df.head()"
      ],
      "execution_count": null,
      "outputs": [
        {
          "output_type": "execute_result",
          "data": {
            "text/html": [
              "<div>\n",
              "<style scoped>\n",
              "    .dataframe tbody tr th:only-of-type {\n",
              "        vertical-align: middle;\n",
              "    }\n",
              "\n",
              "    .dataframe tbody tr th {\n",
              "        vertical-align: top;\n",
              "    }\n",
              "\n",
              "    .dataframe thead th {\n",
              "        text-align: right;\n",
              "    }\n",
              "</style>\n",
              "<table border=\"1\" class=\"dataframe\">\n",
              "  <thead>\n",
              "    <tr style=\"text-align: right;\">\n",
              "      <th></th>\n",
              "      <th>Unnamed: 0</th>\n",
              "      <th>Date</th>\n",
              "      <th>Transfer_Provider</th>\n",
              "      <th>Concession</th>\n",
              "      <th>Ticket_System</th>\n",
              "      <th>Origin</th>\n",
              "      <th>Ori_Corridor</th>\n",
              "      <th>Mode_Type</th>\n",
              "      <th>Time_Period</th>\n",
              "      <th>Boardings</th>\n",
              "      <th>Revenue</th>\n",
              "    </tr>\n",
              "  </thead>\n",
              "  <tbody>\n",
              "    <tr>\n",
              "      <th>0</th>\n",
              "      <td>0</td>\n",
              "      <td>2019-01-01</td>\n",
              "      <td>01 - GO Transit</td>\n",
              "      <td>00 - Adult</td>\n",
              "      <td>PRESTO Card</td>\n",
              "      <td>Ajax GO</td>\n",
              "      <td>Lakeshore East</td>\n",
              "      <td>Rail</td>\n",
              "      <td>Wkend_Holiday</td>\n",
              "      <td>2.47</td>\n",
              "      <td>9.92</td>\n",
              "    </tr>\n",
              "    <tr>\n",
              "      <th>1</th>\n",
              "      <td>1</td>\n",
              "      <td>2019-01-01</td>\n",
              "      <td>01 - GO Transit</td>\n",
              "      <td>00 - Adult</td>\n",
              "      <td>PRESTO Card</td>\n",
              "      <td>Ajax GO Bus</td>\n",
              "      <td>GO Bus</td>\n",
              "      <td>Bus</td>\n",
              "      <td>Wkend_Holiday</td>\n",
              "      <td>1.65</td>\n",
              "      <td>3.86</td>\n",
              "    </tr>\n",
              "    <tr>\n",
              "      <th>2</th>\n",
              "      <td>2</td>\n",
              "      <td>2019-01-01</td>\n",
              "      <td>01 - GO Transit</td>\n",
              "      <td>00 - Adult</td>\n",
              "      <td>PRESTO Card</td>\n",
              "      <td>Aldershot GO</td>\n",
              "      <td>Lakeshore West</td>\n",
              "      <td>Rail</td>\n",
              "      <td>Wkend_Holiday</td>\n",
              "      <td>46.18</td>\n",
              "      <td>155.01</td>\n",
              "    </tr>\n",
              "    <tr>\n",
              "      <th>3</th>\n",
              "      <td>3</td>\n",
              "      <td>2019-01-01</td>\n",
              "      <td>01 - GO Transit</td>\n",
              "      <td>00 - Adult</td>\n",
              "      <td>PRESTO Card</td>\n",
              "      <td>Aldershot GO Bus</td>\n",
              "      <td>GO Bus</td>\n",
              "      <td>Bus</td>\n",
              "      <td>Wkend_Holiday</td>\n",
              "      <td>51.13</td>\n",
              "      <td>37.02</td>\n",
              "    </tr>\n",
              "    <tr>\n",
              "      <th>4</th>\n",
              "      <td>4</td>\n",
              "      <td>2019-01-01</td>\n",
              "      <td>01 - GO Transit</td>\n",
              "      <td>00 - Adult</td>\n",
              "      <td>PRESTO Card</td>\n",
              "      <td>Allandale Waterfront GO</td>\n",
              "      <td>Barrie</td>\n",
              "      <td>Rail</td>\n",
              "      <td>Wkend_Holiday</td>\n",
              "      <td>0.82</td>\n",
              "      <td>25.49</td>\n",
              "    </tr>\n",
              "  </tbody>\n",
              "</table>\n",
              "</div>"
            ],
            "text/plain": [
              "   Unnamed: 0        Date Transfer_Provider  ...    Time_Period Boardings Revenue\n",
              "0           0  2019-01-01   01 - GO Transit  ...  Wkend_Holiday      2.47    9.92\n",
              "1           1  2019-01-01   01 - GO Transit  ...  Wkend_Holiday      1.65    3.86\n",
              "2           2  2019-01-01   01 - GO Transit  ...  Wkend_Holiday     46.18  155.01\n",
              "3           3  2019-01-01   01 - GO Transit  ...  Wkend_Holiday     51.13   37.02\n",
              "4           4  2019-01-01   01 - GO Transit  ...  Wkend_Holiday      0.82   25.49\n",
              "\n",
              "[5 rows x 11 columns]"
            ]
          },
          "metadata": {
            "tags": []
          },
          "execution_count": 2
        }
      ]
    },
    {
      "cell_type": "code",
      "metadata": {
        "colab": {
          "base_uri": "https://localhost:8080/"
        },
        "id": "wqmAbfbo91M3",
        "outputId": "2ab29269-2057-4726-a5d2-dae528b45d83"
      },
      "source": [
        "df.shape"
      ],
      "execution_count": null,
      "outputs": [
        {
          "output_type": "execute_result",
          "data": {
            "text/plain": [
              "(2045041, 11)"
            ]
          },
          "metadata": {
            "tags": []
          },
          "execution_count": 4
        }
      ]
    },
    {
      "cell_type": "code",
      "metadata": {
        "id": "tteFdU5oxG0L"
      },
      "source": [
        "df=df.drop(['Date'],axis=1)\n",
        "df=df.drop(['Unnamed: 0'],axis=1)\n"
      ],
      "execution_count": null,
      "outputs": []
    },
    {
      "cell_type": "markdown",
      "metadata": {
        "id": "GTLgeYgN5ju2"
      },
      "source": [
        "#* Reading the GOStations.csv dataset and looking at first few rows* "
      ]
    },
    {
      "cell_type": "code",
      "metadata": {
        "colab": {
          "resources": {
            "http://localhost:8080/nbextensions/google.colab/files.js": {
              "data": "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",
              "ok": true,
              "headers": [
                [
                  "content-type",
                  "application/javascript"
                ]
              ],
              "status": 200,
              "status_text": ""
            }
          },
          "base_uri": "https://localhost:8080/",
          "height": 72
        },
        "id": "T-xNgpd6op7p",
        "outputId": "a51aa27d-0d9a-41ab-cfc9-ed2f5f4b60cf"
      },
      "source": [
        "uploaded = files.upload()\n",
        "dfGo = pd.read_csv(io.BytesIO(uploaded[\"GOStations.csv\"]))\n",
        "#dftemp=df.copy()"
      ],
      "execution_count": null,
      "outputs": [
        {
          "output_type": "display_data",
          "data": {
            "text/html": [
              "\n",
              "     <input type=\"file\" id=\"files-c0171fc8-4108-4976-9654-3e46d61e8910\" name=\"files[]\" multiple disabled\n",
              "        style=\"border:none\" />\n",
              "     <output id=\"result-c0171fc8-4108-4976-9654-3e46d61e8910\">\n",
              "      Upload widget is only available when the cell has been executed in the\n",
              "      current browser session. Please rerun this cell to enable.\n",
              "      </output>\n",
              "      <script src=\"/nbextensions/google.colab/files.js\"></script> "
            ],
            "text/plain": [
              "<IPython.core.display.HTML object>"
            ]
          },
          "metadata": {
            "tags": []
          }
        },
        {
          "output_type": "stream",
          "text": [
            "Saving GOStations.csv to GOStations.csv\n"
          ],
          "name": "stdout"
        }
      ]
    },
    {
      "cell_type": "code",
      "metadata": {
        "colab": {
          "base_uri": "https://localhost:8080/",
          "height": 284
        },
        "id": "wqNpX8mZ4lcB",
        "outputId": "fd7fd562-8c7e-44ec-ec40-248d9fcdedeb"
      },
      "source": [
        "dfGo.head(2)"
      ],
      "execution_count": null,
      "outputs": [
        {
          "output_type": "execute_result",
          "data": {
            "text/html": [
              "<div>\n",
              "<style scoped>\n",
              "    .dataframe tbody tr th:only-of-type {\n",
              "        vertical-align: middle;\n",
              "    }\n",
              "\n",
              "    .dataframe tbody tr th {\n",
              "        vertical-align: top;\n",
              "    }\n",
              "\n",
              "    .dataframe thead th {\n",
              "        text-align: right;\n",
              "    }\n",
              "</style>\n",
              "<table border=\"1\" class=\"dataframe\">\n",
              "  <thead>\n",
              "    <tr style=\"text-align: right;\">\n",
              "      <th></th>\n",
              "      <th>station name</th>\n",
              "      <th>Station Name Trimmed</th>\n",
              "      <th>Origin</th>\n",
              "      <th>Line ID</th>\n",
              "      <th>Line Name</th>\n",
              "      <th>Station ID</th>\n",
              "      <th>stop_lat</th>\n",
              "      <th>stop_lon</th>\n",
              "      <th>rail_distance_from_union_miles</th>\n",
              "      <th>Subway</th>\n",
              "      <th>University_College</th>\n",
              "      <th>University_Nm</th>\n",
              "      <th>GO Station_Line</th>\n",
              "      <th>Park and Ride_Carpool</th>\n",
              "      <th>Terminal Station</th>\n",
              "      <th>Shopping Centre</th>\n",
              "      <th>Parent Station</th>\n",
              "      <th>City</th>\n",
              "      <th>population around the Rail station</th>\n",
              "      <th>Employment around the Rail station</th>\n",
              "    </tr>\n",
              "  </thead>\n",
              "  <tbody>\n",
              "    <tr>\n",
              "      <th>0</th>\n",
              "      <td>1|   55|Union Station Rail</td>\n",
              "      <td>Union Station Rail</td>\n",
              "      <td>Union Station</td>\n",
              "      <td>0</td>\n",
              "      <td>Union Station</td>\n",
              "      <td>0</td>\n",
              "      <td>43.645195</td>\n",
              "      <td>-79.380600</td>\n",
              "      <td>0.0</td>\n",
              "      <td>0.0</td>\n",
              "      <td>0.0</td>\n",
              "      <td>NaN</td>\n",
              "      <td>0.0</td>\n",
              "      <td>0.0</td>\n",
              "      <td>0.0</td>\n",
              "      <td>0.0</td>\n",
              "      <td>Union Station Rail</td>\n",
              "      <td>Toronto</td>\n",
              "      <td>NaN</td>\n",
              "      <td>NaN</td>\n",
              "    </tr>\n",
              "    <tr>\n",
              "      <th>1</th>\n",
              "      <td>1|    1|Agincourt GO Station Rail</td>\n",
              "      <td>Agincourt GO Station Rail</td>\n",
              "      <td>Agincourt GO</td>\n",
              "      <td>6</td>\n",
              "      <td>Stouffville</td>\n",
              "      <td>6002</td>\n",
              "      <td>43.786110</td>\n",
              "      <td>-79.284385</td>\n",
              "      <td>14.1</td>\n",
              "      <td>0.0</td>\n",
              "      <td>0.0</td>\n",
              "      <td>NaN</td>\n",
              "      <td>6.0</td>\n",
              "      <td>0.0</td>\n",
              "      <td>0.0</td>\n",
              "      <td>0.0</td>\n",
              "      <td>Agincourt GO Station Rail</td>\n",
              "      <td>Scarborough</td>\n",
              "      <td>9226.795276</td>\n",
              "      <td>2982.56517</td>\n",
              "    </tr>\n",
              "  </tbody>\n",
              "</table>\n",
              "</div>"
            ],
            "text/plain": [
              "                         station name  ... Employment around the Rail station\n",
              "0          1|   55|Union Station Rail  ...                                NaN\n",
              "1   1|    1|Agincourt GO Station Rail  ...                         2982.56517\n",
              "\n",
              "[2 rows x 20 columns]"
            ]
          },
          "metadata": {
            "tags": []
          },
          "execution_count": 32
        }
      ]
    },
    {
      "cell_type": "markdown",
      "metadata": {
        "id": "ckVvJcWnuYBc"
      },
      "source": [
        "**Chexcking to find columns that have the same values to merg the two dataset based on those columns**"
      ]
    },
    {
      "cell_type": "code",
      "metadata": {
        "colab": {
          "base_uri": "https://localhost:8080/"
        },
        "id": "vnN7ifC0ooVZ",
        "outputId": "3b195568-adf1-4048-b9a5-27c27abdb685"
      },
      "source": [
        "print(dfGo['Line Name'].unique())"
      ],
      "execution_count": null,
      "outputs": [
        {
          "output_type": "stream",
          "text": [
            "['Union Station' 'Stouffville' 'Lakeshore East' 'Lakeshore West' 'Barrie'\n",
            " 'Kitchener' 'Milton' 'Richmond Hill' 'UP Express' 'GO Bus']\n"
          ],
          "name": "stdout"
        }
      ]
    },
    {
      "cell_type": "code",
      "metadata": {
        "colab": {
          "base_uri": "https://localhost:8080/"
        },
        "id": "H8lJppgjVkwB",
        "outputId": "0f1c4e8c-6866-4813-ebfc-049f606c739e"
      },
      "source": [
        "print(df['Ori_Corridor'].unique())"
      ],
      "execution_count": null,
      "outputs": [
        {
          "output_type": "stream",
          "text": [
            "['Lakeshore East' 'GO Bus' 'Lakeshore West' 'Barrie' 'Kitchener'\n",
            " 'Union Station' 'Milton' 'Stouffville' 'Richmond Hill' 'UP Express']\n"
          ],
          "name": "stdout"
        }
      ]
    },
    {
      "cell_type": "code",
      "metadata": {
        "id": "Gyx-Wcra6vev"
      },
      "source": [
        "print(df['Origin'].unique())"
      ],
      "execution_count": null,
      "outputs": []
    },
    {
      "cell_type": "code",
      "metadata": {
        "id": "4Q-QeJbPXu2G"
      },
      "source": [
        "print(dfGo['Clean Stop Name'].unique())"
      ],
      "execution_count": null,
      "outputs": []
    },
    {
      "cell_type": "markdown",
      "metadata": {
        "id": "fsiXhcVkAJ0H"
      },
      "source": [
        "# *Renaming two columns to be able to merge base on these column as they have  the same unique values *"
      ]
    },
    {
      "cell_type": "code",
      "metadata": {
        "id": "N2taZKQWZKRo"
      },
      "source": [
        "df.rename(columns = {'Ori_Corridor': 'Line Name'}, inplace = True)\n",
        "dfGo.rename(columns = {'Clean Stop Name': 'Origin'}, inplace = True)\n"
      ],
      "execution_count": null,
      "outputs": []
    },
    {
      "cell_type": "code",
      "metadata": {
        "id": "UnIW9vjIZIvM"
      },
      "source": [
        "#Left joining the two datasets\n",
        "dfm = pd.merge(df, dfGo,  how='left', left_on=['Line Name','Origin'], right_on = ['Line Name','Origin'])\n"
      ],
      "execution_count": null,
      "outputs": []
    },
    {
      "cell_type": "code",
      "metadata": {
        "id": "5FZlbkwNASW1",
        "colab": {
          "base_uri": "https://localhost:8080/"
        },
        "outputId": "ff348138-98e1-4b78-97d9-e2e5ba0e5357"
      },
      "source": [
        "dfm.count"
      ],
      "execution_count": null,
      "outputs": [
        {
          "output_type": "execute_result",
          "data": {
            "text/plain": [
              "<bound method DataFrame.count of         Transfer_Provider  ... Employment around the Rail station\n",
              "0         01 - GO Transit  ...                        2340.935511\n",
              "1         01 - GO Transit  ...                                NaN\n",
              "2         01 - GO Transit  ...                         758.735246\n",
              "3         01 - GO Transit  ...                                NaN\n",
              "4         01 - GO Transit  ...                        1341.443848\n",
              "...                   ...  ...                                ...\n",
              "4085981               NaN  ...                                NaN\n",
              "4085982               NaN  ...                                NaN\n",
              "4085983               NaN  ...                                NaN\n",
              "4085984               NaN  ...                                NaN\n",
              "4085985               NaN  ...                                NaN\n",
              "\n",
              "[4085986 rows x 27 columns]>"
            ]
          },
          "metadata": {
            "tags": []
          },
          "execution_count": 30
        }
      ]
    },
    {
      "cell_type": "markdown",
      "metadata": {
        "id": "kXeDOY73Xv2F"
      },
      "source": [
        "# **Check for duplicate rows**"
      ]
    },
    {
      "cell_type": "code",
      "metadata": {
        "colab": {
          "base_uri": "https://localhost:8080/"
        },
        "id": "sIDgNzEIWNv4",
        "outputId": "fbd439c1-4044-4bf9-8bd6-ad51a9f7de37"
      },
      "source": [
        "#counting duplicate rows\n",
        "#df.duplicated(subset=None, keep='first')\n",
        "#dfm=df.drop_duplicates()\n",
        "#c\n",
        "any(dfm.duplicated())"
      ],
      "execution_count": null,
      "outputs": [
        {
          "output_type": "execute_result",
          "data": {
            "text/plain": [
              "False"
            ]
          },
          "metadata": {
            "tags": []
          },
          "execution_count": 25
        }
      ]
    },
    {
      "cell_type": "markdown",
      "metadata": {
        "id": "oC9O9eWW540G"
      },
      "source": [
        "# **Describing the merged dataset**"
      ]
    },
    {
      "cell_type": "code",
      "metadata": {
        "colab": {
          "base_uri": "https://localhost:8080/",
          "height": 351
        },
        "id": "TaxxakIEtY2C",
        "outputId": "9ff3b7c6-2700-4831-b7c0-4043092deeb6"
      },
      "source": [
        "dfm.describe()"
      ],
      "execution_count": null,
      "outputs": [
        {
          "output_type": "execute_result",
          "data": {
            "text/html": [
              "<div>\n",
              "<style scoped>\n",
              "    .dataframe tbody tr th:only-of-type {\n",
              "        vertical-align: middle;\n",
              "    }\n",
              "\n",
              "    .dataframe tbody tr th {\n",
              "        vertical-align: top;\n",
              "    }\n",
              "\n",
              "    .dataframe thead th {\n",
              "        text-align: right;\n",
              "    }\n",
              "</style>\n",
              "<table border=\"1\" class=\"dataframe\">\n",
              "  <thead>\n",
              "    <tr style=\"text-align: right;\">\n",
              "      <th></th>\n",
              "      <th>Boardings</th>\n",
              "      <th>Revenue</th>\n",
              "      <th>Line ID</th>\n",
              "      <th>Station ID</th>\n",
              "      <th>stop_lat</th>\n",
              "      <th>stop_lon</th>\n",
              "      <th>rail_distance_from_union_miles</th>\n",
              "      <th>Subway</th>\n",
              "      <th>University_College</th>\n",
              "      <th>GO Station_Line</th>\n",
              "      <th>Park and Ride_Carpool</th>\n",
              "      <th>Terminal Station</th>\n",
              "      <th>Shopping Centre</th>\n",
              "      <th>population around the Rail station</th>\n",
              "      <th>Employment around the Rail station</th>\n",
              "    </tr>\n",
              "  </thead>\n",
              "  <tbody>\n",
              "    <tr>\n",
              "      <th>count</th>\n",
              "      <td>4.085986e+06</td>\n",
              "      <td>4.085986e+06</td>\n",
              "      <td>4.060561e+06</td>\n",
              "      <td>4.060561e+06</td>\n",
              "      <td>3.477170e+06</td>\n",
              "      <td>3.477170e+06</td>\n",
              "      <td>804400.000000</td>\n",
              "      <td>4.060183e+06</td>\n",
              "      <td>4.060183e+06</td>\n",
              "      <td>4.060183e+06</td>\n",
              "      <td>4.060183e+06</td>\n",
              "      <td>4.060183e+06</td>\n",
              "      <td>4.060183e+06</td>\n",
              "      <td>742862.000000</td>\n",
              "      <td>742862.000000</td>\n",
              "    </tr>\n",
              "    <tr>\n",
              "      <th>mean</th>\n",
              "      <td>1.964432e+01</td>\n",
              "      <td>1.235836e+02</td>\n",
              "      <td>7.115125e+00</td>\n",
              "      <td>6.540954e+04</td>\n",
              "      <td>4.368011e+01</td>\n",
              "      <td>-7.953585e+01</td>\n",
              "      <td>21.178115</td>\n",
              "      <td>5.656174e-02</td>\n",
              "      <td>2.896963e-02</td>\n",
              "      <td>5.647041e-01</td>\n",
              "      <td>1.908714e-01</td>\n",
              "      <td>1.404469e-01</td>\n",
              "      <td>8.454767e-02</td>\n",
              "      <td>5450.052400</td>\n",
              "      <td>3082.614464</td>\n",
              "    </tr>\n",
              "    <tr>\n",
              "      <th>std</th>\n",
              "      <td>3.482320e+02</td>\n",
              "      <td>2.339765e+03</td>\n",
              "      <td>2.064583e+00</td>\n",
              "      <td>3.051059e+04</td>\n",
              "      <td>2.324492e-01</td>\n",
              "      <td>3.494835e-01</td>\n",
              "      <td>12.842205</td>\n",
              "      <td>2.310033e-01</td>\n",
              "      <td>1.677212e-01</td>\n",
              "      <td>2.587233e+00</td>\n",
              "      <td>3.929880e-01</td>\n",
              "      <td>3.474501e-01</td>\n",
              "      <td>2.782074e-01</td>\n",
              "      <td>4476.280218</td>\n",
              "      <td>2697.337575</td>\n",
              "    </tr>\n",
              "    <tr>\n",
              "      <th>min</th>\n",
              "      <td>-5.714500e+02</td>\n",
              "      <td>-4.997750e+03</td>\n",
              "      <td>0.000000e+00</td>\n",
              "      <td>0.000000e+00</td>\n",
              "      <td>4.309577e+01</td>\n",
              "      <td>-8.054169e+01</td>\n",
              "      <td>0.000000</td>\n",
              "      <td>0.000000e+00</td>\n",
              "      <td>0.000000e+00</td>\n",
              "      <td>-1.000000e+00</td>\n",
              "      <td>0.000000e+00</td>\n",
              "      <td>0.000000e+00</td>\n",
              "      <td>0.000000e+00</td>\n",
              "      <td>7.494439</td>\n",
              "      <td>56.109353</td>\n",
              "    </tr>\n",
              "    <tr>\n",
              "      <th>25%</th>\n",
              "      <td>8.200000e-01</td>\n",
              "      <td>3.240000e+00</td>\n",
              "      <td>8.000000e+00</td>\n",
              "      <td>8.005500e+04</td>\n",
              "      <td>4.357558e+01</td>\n",
              "      <td>-7.973582e+01</td>\n",
              "      <td>12.600000</td>\n",
              "      <td>0.000000e+00</td>\n",
              "      <td>0.000000e+00</td>\n",
              "      <td>-1.000000e+00</td>\n",
              "      <td>0.000000e+00</td>\n",
              "      <td>0.000000e+00</td>\n",
              "      <td>0.000000e+00</td>\n",
              "      <td>2374.121638</td>\n",
              "      <td>1307.393530</td>\n",
              "    </tr>\n",
              "    <tr>\n",
              "      <th>50%</th>\n",
              "      <td>1.650000e+00</td>\n",
              "      <td>8.870000e+00</td>\n",
              "      <td>8.000000e+00</td>\n",
              "      <td>8.038400e+04</td>\n",
              "      <td>4.370022e+01</td>\n",
              "      <td>-7.958688e+01</td>\n",
              "      <td>20.930000</td>\n",
              "      <td>0.000000e+00</td>\n",
              "      <td>0.000000e+00</td>\n",
              "      <td>-1.000000e+00</td>\n",
              "      <td>0.000000e+00</td>\n",
              "      <td>0.000000e+00</td>\n",
              "      <td>0.000000e+00</td>\n",
              "      <td>4448.554786</td>\n",
              "      <td>2340.935511</td>\n",
              "    </tr>\n",
              "    <tr>\n",
              "      <th>75%</th>\n",
              "      <td>6.600000e+00</td>\n",
              "      <td>3.361000e+01</td>\n",
              "      <td>8.000000e+00</td>\n",
              "      <td>8.057800e+04</td>\n",
              "      <td>4.383098e+01</td>\n",
              "      <td>-7.930857e+01</td>\n",
              "      <td>28.830000</td>\n",
              "      <td>0.000000e+00</td>\n",
              "      <td>0.000000e+00</td>\n",
              "      <td>2.000000e+00</td>\n",
              "      <td>0.000000e+00</td>\n",
              "      <td>0.000000e+00</td>\n",
              "      <td>0.000000e+00</td>\n",
              "      <td>6869.294511</td>\n",
              "      <td>4009.929376</td>\n",
              "    </tr>\n",
              "    <tr>\n",
              "      <th>max</th>\n",
              "      <td>4.607782e+04</td>\n",
              "      <td>3.167033e+05</td>\n",
              "      <td>1.100000e+01</td>\n",
              "      <td>8.090100e+04</td>\n",
              "      <td>4.442976e+01</td>\n",
              "      <td>-7.828703e+01</td>\n",
              "      <td>82.321280</td>\n",
              "      <td>1.000000e+00</td>\n",
              "      <td>1.000000e+00</td>\n",
              "      <td>1.100000e+01</td>\n",
              "      <td>1.000000e+00</td>\n",
              "      <td>1.000000e+00</td>\n",
              "      <td>1.000000e+00</td>\n",
              "      <td>21194.742790</td>\n",
              "      <td>15386.259460</td>\n",
              "    </tr>\n",
              "  </tbody>\n",
              "</table>\n",
              "</div>"
            ],
            "text/plain": [
              "          Boardings  ...  Employment around the Rail station\n",
              "count  4.085986e+06  ...                       742862.000000\n",
              "mean   1.964432e+01  ...                         3082.614464\n",
              "std    3.482320e+02  ...                         2697.337575\n",
              "min   -5.714500e+02  ...                           56.109353\n",
              "25%    8.200000e-01  ...                         1307.393530\n",
              "50%    1.650000e+00  ...                         2340.935511\n",
              "75%    6.600000e+00  ...                         4009.929376\n",
              "max    4.607782e+04  ...                        15386.259460\n",
              "\n",
              "[8 rows x 15 columns]"
            ]
          },
          "metadata": {
            "tags": []
          },
          "execution_count": 31
        }
      ]
    },
    {
      "cell_type": "code",
      "metadata": {
        "colab": {
          "base_uri": "https://localhost:8080/"
        },
        "id": "KjUvbJAOC67W",
        "outputId": "a077ed59-1ec4-4aba-95e0-b0c18b4903bb"
      },
      "source": [
        "dfm.isna().sum()"
      ],
      "execution_count": null,
      "outputs": [
        {
          "output_type": "execute_result",
          "data": {
            "text/plain": [
              "Transfer_Provider                     2416334\n",
              "Concession                                  0\n",
              "Ticket_System                               0\n",
              "Origin                                      0\n",
              "Line Name                                   0\n",
              "Mode_Type                                   0\n",
              "Time_Period                                 0\n",
              "Boardings                                   0\n",
              "Revenue                                     0\n",
              "station name                            25425\n",
              "Station Name Trimmed                    25874\n",
              "Line ID                                 25425\n",
              "Station ID                              25425\n",
              "stop_lat                               608816\n",
              "stop_lon                               608816\n",
              "rail_distance_from_union_miles        3281586\n",
              "Subway                                  25803\n",
              "University_College                      25803\n",
              "University_Nm                         3968364\n",
              "GO Station_Line                         25803\n",
              "Park and Ride_Carpool                   25803\n",
              "Terminal Station                        25803\n",
              "Shopping Centre                         25803\n",
              "Parent Station                         149737\n",
              "City                                    26768\n",
              "population around the Rail station    3343124\n",
              "Employment around the Rail station    3343124\n",
              "dtype: int64"
            ]
          },
          "metadata": {
            "tags": []
          },
          "execution_count": 32
        }
      ]
    },
    {
      "cell_type": "code",
      "metadata": {
        "colab": {
          "base_uri": "https://localhost:8080/"
        },
        "id": "cdThRAiZ5HYb",
        "outputId": "986d7d10-3496-4024-b6b5-e3681804cbc2"
      },
      "source": [
        "dfm.dtypes"
      ],
      "execution_count": null,
      "outputs": [
        {
          "output_type": "execute_result",
          "data": {
            "text/plain": [
              "Unnamed: 0                              int64\n",
              "Date                                   object\n",
              "Transfer_Provider                        int8\n",
              "Concession                               int8\n",
              "Ticket_System                            int8\n",
              "Origin                                  int16\n",
              "Line Name                                int8\n",
              "Mode_Type                                int8\n",
              "Time_Period                              int8\n",
              "Boardings                             float64\n",
              "Revenue                               float64\n",
              "station name                            int16\n",
              "Station Name Trimmed                    int16\n",
              "Line ID                               float64\n",
              "Station ID                            float64\n",
              "stop_lat                              float64\n",
              "stop_lon                              float64\n",
              "rail_distance_from_union_miles        float64\n",
              "Subway                                float64\n",
              "University_College                    float64\n",
              "University_Nm                            int8\n",
              "GO Station_Line                       float64\n",
              "Park and Ride_Carpool                 float64\n",
              "Terminal Station                      float64\n",
              "Shopping Centre                       float64\n",
              "Parent Station                          int16\n",
              "City                                     int8\n",
              "population around the Rail station    float64\n",
              "Employment around the Rail station    float64\n",
              "dtype: object"
            ]
          },
          "metadata": {
            "tags": []
          },
          "execution_count": 18
        }
      ]
    },
    {
      "cell_type": "markdown",
      "metadata": {
        "id": "CH2wyexY6CEA"
      },
      "source": [
        "# **Converting categorical variables to numerical ones**"
      ]
    },
    {
      "cell_type": "code",
      "metadata": {
        "id": "Q49D2bav9z8g"
      },
      "source": [
        "# Coveting categorical variable to numerical values using one hot encoding\n",
        "\n",
        "from sklearn.preprocessing import OneHotEncoder\n",
        "dfm['Concession'] =dfm['Concession'].astype('category').cat.codes\n",
        "dfm['Transfer_Provider'] =dfm['Transfer_Provider'].astype('category').cat.codes\n",
        "dfm['Ticket_System'] =dfm['Ticket_System'].astype('category').cat.codes\n",
        "dfm['Origin'] =dfm['Origin'].astype('category').cat.codes\n",
        "dfm['Line Name'] =dfm['Line Name'].astype('category').cat.codes\n",
        "dfm['Mode_Type'] =dfm['Mode_Type'].astype('category').cat.codes\n",
        "dfm['Time_Period'] =dfm['Time_Period'].astype('category').cat.codes\n",
        "dfm['station name'] =dfm['station name'].astype('category').cat.codes\n",
        "dfm['Station Name Trimmed'] =dfm['Station Name Trimmed'].astype('category').cat.codes\n",
        "dfm['University_Nm'] =dfm['University_Nm'].astype('category').cat.codes\n",
        "dfm['Parent Station'] =dfm['Parent Station'].astype('category').cat.codes\n",
        "dfm['City'] =dfm['City'].astype('category').cat.codes\n"
      ],
      "execution_count": null,
      "outputs": []
    },
    {
      "cell_type": "code",
      "metadata": {
        "colab": {
          "base_uri": "https://localhost:8080/",
          "height": 360
        },
        "id": "uEEW9CzeItny",
        "outputId": "9ec6528c-69d3-4f05-fecc-d3d39939bbe2"
      },
      "source": [
        "dfm.head()"
      ],
      "execution_count": null,
      "outputs": [
        {
          "output_type": "execute_result",
          "data": {
            "text/html": [
              "<div>\n",
              "<style scoped>\n",
              "    .dataframe tbody tr th:only-of-type {\n",
              "        vertical-align: middle;\n",
              "    }\n",
              "\n",
              "    .dataframe tbody tr th {\n",
              "        vertical-align: top;\n",
              "    }\n",
              "\n",
              "    .dataframe thead th {\n",
              "        text-align: right;\n",
              "    }\n",
              "</style>\n",
              "<table border=\"1\" class=\"dataframe\">\n",
              "  <thead>\n",
              "    <tr style=\"text-align: right;\">\n",
              "      <th></th>\n",
              "      <th>Unnamed: 0</th>\n",
              "      <th>Date</th>\n",
              "      <th>Transfer_Provider</th>\n",
              "      <th>Concession</th>\n",
              "      <th>Ticket_System</th>\n",
              "      <th>Origin</th>\n",
              "      <th>Line Name</th>\n",
              "      <th>Mode_Type</th>\n",
              "      <th>Time_Period</th>\n",
              "      <th>Boardings</th>\n",
              "      <th>Revenue</th>\n",
              "      <th>station name</th>\n",
              "      <th>Station Name Trimmed</th>\n",
              "      <th>Line ID</th>\n",
              "      <th>Station ID</th>\n",
              "      <th>stop_lat</th>\n",
              "      <th>stop_lon</th>\n",
              "      <th>rail_distance_from_union_miles</th>\n",
              "      <th>Subway</th>\n",
              "      <th>University_College</th>\n",
              "      <th>University_Nm</th>\n",
              "      <th>GO Station_Line</th>\n",
              "      <th>Park and Ride_Carpool</th>\n",
              "      <th>Terminal Station</th>\n",
              "      <th>Shopping Centre</th>\n",
              "      <th>Parent Station</th>\n",
              "      <th>City</th>\n",
              "      <th>population around the Rail station</th>\n",
              "      <th>Employment around the Rail station</th>\n",
              "    </tr>\n",
              "  </thead>\n",
              "  <tbody>\n",
              "    <tr>\n",
              "      <th>0</th>\n",
              "      <td>0</td>\n",
              "      <td>2019-01-01</td>\n",
              "      <td>1</td>\n",
              "      <td>0</td>\n",
              "      <td>2</td>\n",
              "      <td>33</td>\n",
              "      <td>3</td>\n",
              "      <td>2</td>\n",
              "      <td>4</td>\n",
              "      <td>2.47</td>\n",
              "      <td>9.92</td>\n",
              "      <td>2</td>\n",
              "      <td>35</td>\n",
              "      <td>7.0</td>\n",
              "      <td>7007.0</td>\n",
              "      <td>43.847766</td>\n",
              "      <td>-79.041372</td>\n",
              "      <td>23.43</td>\n",
              "      <td>0.0</td>\n",
              "      <td>0.0</td>\n",
              "      <td>0</td>\n",
              "      <td>7.0</td>\n",
              "      <td>0.0</td>\n",
              "      <td>0.0</td>\n",
              "      <td>0.0</td>\n",
              "      <td>33</td>\n",
              "      <td>2</td>\n",
              "      <td>3054.084761</td>\n",
              "      <td>2340.935511</td>\n",
              "    </tr>\n",
              "    <tr>\n",
              "      <th>1</th>\n",
              "      <td>1</td>\n",
              "      <td>2019-01-01</td>\n",
              "      <td>1</td>\n",
              "      <td>0</td>\n",
              "      <td>2</td>\n",
              "      <td>34</td>\n",
              "      <td>1</td>\n",
              "      <td>0</td>\n",
              "      <td>4</td>\n",
              "      <td>1.65</td>\n",
              "      <td>3.86</td>\n",
              "      <td>177</td>\n",
              "      <td>30</td>\n",
              "      <td>8.0</td>\n",
              "      <td>80115.0</td>\n",
              "      <td>43.847547</td>\n",
              "      <td>-79.041084</td>\n",
              "      <td>16.70</td>\n",
              "      <td>0.0</td>\n",
              "      <td>0.0</td>\n",
              "      <td>0</td>\n",
              "      <td>7.0</td>\n",
              "      <td>1.0</td>\n",
              "      <td>0.0</td>\n",
              "      <td>0.0</td>\n",
              "      <td>33</td>\n",
              "      <td>2</td>\n",
              "      <td>3384.599403</td>\n",
              "      <td>2841.445415</td>\n",
              "    </tr>\n",
              "    <tr>\n",
              "      <th>2</th>\n",
              "      <td>2</td>\n",
              "      <td>2019-01-01</td>\n",
              "      <td>1</td>\n",
              "      <td>0</td>\n",
              "      <td>2</td>\n",
              "      <td>37</td>\n",
              "      <td>4</td>\n",
              "      <td>2</td>\n",
              "      <td>4</td>\n",
              "      <td>46.18</td>\n",
              "      <td>155.01</td>\n",
              "      <td>3</td>\n",
              "      <td>36</td>\n",
              "      <td>1.0</td>\n",
              "      <td>1010.0</td>\n",
              "      <td>43.313385</td>\n",
              "      <td>-79.855659</td>\n",
              "      <td>34.60</td>\n",
              "      <td>0.0</td>\n",
              "      <td>0.0</td>\n",
              "      <td>0</td>\n",
              "      <td>1.0</td>\n",
              "      <td>0.0</td>\n",
              "      <td>0.0</td>\n",
              "      <td>0.0</td>\n",
              "      <td>34</td>\n",
              "      <td>14</td>\n",
              "      <td>1180.123902</td>\n",
              "      <td>758.735246</td>\n",
              "    </tr>\n",
              "    <tr>\n",
              "      <th>3</th>\n",
              "      <td>3</td>\n",
              "      <td>2019-01-01</td>\n",
              "      <td>1</td>\n",
              "      <td>0</td>\n",
              "      <td>2</td>\n",
              "      <td>38</td>\n",
              "      <td>1</td>\n",
              "      <td>0</td>\n",
              "      <td>4</td>\n",
              "      <td>51.13</td>\n",
              "      <td>37.02</td>\n",
              "      <td>187</td>\n",
              "      <td>94</td>\n",
              "      <td>8.0</td>\n",
              "      <td>80127.0</td>\n",
              "      <td>43.313036</td>\n",
              "      <td>-79.855903</td>\n",
              "      <td>16.70</td>\n",
              "      <td>0.0</td>\n",
              "      <td>0.0</td>\n",
              "      <td>0</td>\n",
              "      <td>1.0</td>\n",
              "      <td>1.0</td>\n",
              "      <td>0.0</td>\n",
              "      <td>0.0</td>\n",
              "      <td>34</td>\n",
              "      <td>14</td>\n",
              "      <td>3384.599403</td>\n",
              "      <td>2841.445415</td>\n",
              "    </tr>\n",
              "    <tr>\n",
              "      <th>4</th>\n",
              "      <td>4</td>\n",
              "      <td>2019-01-01</td>\n",
              "      <td>1</td>\n",
              "      <td>0</td>\n",
              "      <td>2</td>\n",
              "      <td>39</td>\n",
              "      <td>0</td>\n",
              "      <td>2</td>\n",
              "      <td>4</td>\n",
              "      <td>0.82</td>\n",
              "      <td>25.49</td>\n",
              "      <td>65</td>\n",
              "      <td>38</td>\n",
              "      <td>4.0</td>\n",
              "      <td>4011.0</td>\n",
              "      <td>44.374139</td>\n",
              "      <td>-79.687858</td>\n",
              "      <td>62.90</td>\n",
              "      <td>0.0</td>\n",
              "      <td>0.0</td>\n",
              "      <td>0</td>\n",
              "      <td>4.0</td>\n",
              "      <td>0.0</td>\n",
              "      <td>0.0</td>\n",
              "      <td>0.0</td>\n",
              "      <td>35</td>\n",
              "      <td>4</td>\n",
              "      <td>2930.013448</td>\n",
              "      <td>1341.443848</td>\n",
              "    </tr>\n",
              "  </tbody>\n",
              "</table>\n",
              "</div>"
            ],
            "text/plain": [
              "   Unnamed: 0  ... Employment around the Rail station\n",
              "0           0  ...                        2340.935511\n",
              "1           1  ...                        2841.445415\n",
              "2           2  ...                         758.735246\n",
              "3           3  ...                        2841.445415\n",
              "4           4  ...                        1341.443848\n",
              "\n",
              "[5 rows x 29 columns]"
            ]
          },
          "metadata": {
            "tags": []
          },
          "execution_count": 21
        }
      ]
    },
    {
      "cell_type": "code",
      "metadata": {
        "id": "PznQhPv1lgJy"
      },
      "source": [
        "dfm = dfm.drop('Date', axis=1) # remove dates from the rows\n",
        "dfm = dfm.drop('Unnamed: 0', axis=1) "
      ],
      "execution_count": null,
      "outputs": []
    },
    {
      "cell_type": "markdown",
      "metadata": {
        "id": "5ihk-TKN7X3K"
      },
      "source": [
        "# **Replacing missing values**"
      ]
    },
    {
      "cell_type": "code",
      "metadata": {
        "id": "lKLlQ23DzMI7"
      },
      "source": [
        "#dfm = dfm.dropna(how='any',axis=0) \n",
        "#fill null values\n",
        "from sklearn.impute import SimpleImputer\n",
        "dfm['station name'].fillna(dfm['station name'].mode()[0], inplace=True)\n",
        "dfm['Station Name Trimmed'].fillna(dfm['Station Name Trimmed'].mode()[0], inplace=True)\n",
        "dfm['Line ID'].fillna(dfm['Line ID'].mode()[0], inplace=True)\n",
        "dfm['Station ID'].fillna(dfm['Station ID'].mode()[0], inplace=True)\n",
        "dfm['stop_lat'].fillna(dfm['stop_lat'].mode()[0], inplace=True)\n",
        "dfm['stop_lon'].fillna(dfm['stop_lon'].mode()[0], inplace=True)\n",
        "dfm['rail_distance_from_union_miles'].fillna(dfm['rail_distance_from_union_miles'].mode()[0], inplace=True)\n",
        "dfm['Subway'].fillna(dfm['Subway'].mode()[0], inplace=True)\n",
        "dfm['University_College'].fillna(dfm['University_College'].mode()[0], inplace=True)\n",
        "dfm['University_Nm'].fillna(dfm['University_Nm'].mode()[0], inplace=True)\n",
        "dfm['GO Station_Line'].fillna(dfm['GO Station_Line'].mode()[0], inplace=True)\n",
        "dfm['Park and Ride_Carpool'].fillna(dfm['Park and Ride_Carpool'].mode()[0], inplace=True)\n",
        "dfm['Terminal Station'].fillna(dfm['Terminal Station'].mode()[0], inplace=True)\n",
        "dfm['Shopping Centre'].fillna(dfm['Shopping Centre'].mode()[0], inplace=True)\n",
        "dfm['Parent Station'].fillna(dfm['Parent Station'].mode()[0], inplace=True)\n",
        "dfm['City'].fillna(dfm['City'].mode()[0], inplace=True)\n",
        "dfm['population around the Rail station'].fillna(dfm['population around the Rail station'].mode()[0], inplace=True)\n",
        "dfm['Employment around the Rail station'].fillna(dfm['Employment around the Rail station'].mode()[0], inplace=True)"
      ],
      "execution_count": null,
      "outputs": []
    },
    {
      "cell_type": "markdown",
      "metadata": {
        "id": "GCcSLd7k8bXe"
      },
      "source": [
        "# **Scaling the data**"
      ]
    },
    {
      "cell_type": "code",
      "metadata": {
        "colab": {
          "base_uri": "https://localhost:8080/",
          "height": 204
        },
        "id": "V22F66SCkFWF",
        "outputId": "5c1d0ca8-d94b-4b03-d044-ce26b4b2d5c8"
      },
      "source": [
        "#scaling data\n",
        "from sklearn.preprocessing import MinMaxScaler\n",
        "from sklearn import preprocessing\n",
        "x = dfm.values #returns a numpy array\n",
        "min_max_scaler = preprocessing.MinMaxScaler()\n",
        "x_scaled = min_max_scaler.fit_transform(x)\n",
        "dfm = pd.DataFrame(x_scaled)\n",
        "dfm.head()\n",
        "# inverse transform\n",
        "#inverse = min_max_scalerr.inverse_transform(x_scaled)"
      ],
      "execution_count": null,
      "outputs": [
        {
          "output_type": "execute_result",
          "data": {
            "text/html": [
              "<div>\n",
              "<style scoped>\n",
              "    .dataframe tbody tr th:only-of-type {\n",
              "        vertical-align: middle;\n",
              "    }\n",
              "\n",
              "    .dataframe tbody tr th {\n",
              "        vertical-align: top;\n",
              "    }\n",
              "\n",
              "    .dataframe thead th {\n",
              "        text-align: right;\n",
              "    }\n",
              "</style>\n",
              "<table border=\"1\" class=\"dataframe\">\n",
              "  <thead>\n",
              "    <tr style=\"text-align: right;\">\n",
              "      <th></th>\n",
              "      <th>0</th>\n",
              "      <th>1</th>\n",
              "      <th>2</th>\n",
              "      <th>3</th>\n",
              "      <th>4</th>\n",
              "      <th>5</th>\n",
              "      <th>6</th>\n",
              "      <th>7</th>\n",
              "      <th>8</th>\n",
              "      <th>9</th>\n",
              "      <th>10</th>\n",
              "      <th>11</th>\n",
              "      <th>12</th>\n",
              "      <th>13</th>\n",
              "      <th>14</th>\n",
              "      <th>15</th>\n",
              "      <th>16</th>\n",
              "      <th>17</th>\n",
              "      <th>18</th>\n",
              "      <th>19</th>\n",
              "      <th>20</th>\n",
              "      <th>21</th>\n",
              "      <th>22</th>\n",
              "      <th>23</th>\n",
              "      <th>24</th>\n",
              "      <th>25</th>\n",
              "      <th>26</th>\n",
              "    </tr>\n",
              "  </thead>\n",
              "  <tbody>\n",
              "    <tr>\n",
              "      <th>0</th>\n",
              "      <td>0.111111</td>\n",
              "      <td>0.0</td>\n",
              "      <td>0.5</td>\n",
              "      <td>0.073826</td>\n",
              "      <td>0.333333</td>\n",
              "      <td>1.0</td>\n",
              "      <td>1.0</td>\n",
              "      <td>0.012303</td>\n",
              "      <td>0.015566</td>\n",
              "      <td>0.002436</td>\n",
              "      <td>0.072765</td>\n",
              "      <td>0.636364</td>\n",
              "      <td>0.086612</td>\n",
              "      <td>0.563720</td>\n",
              "      <td>0.665430</td>\n",
              "      <td>0.284617</td>\n",
              "      <td>0.0</td>\n",
              "      <td>0.0</td>\n",
              "      <td>0.0</td>\n",
              "      <td>0.666667</td>\n",
              "      <td>0.0</td>\n",
              "      <td>0.0</td>\n",
              "      <td>0.0</td>\n",
              "      <td>0.090659</td>\n",
              "      <td>0.030769</td>\n",
              "      <td>0.143794</td>\n",
              "      <td>0.149041</td>\n",
              "    </tr>\n",
              "    <tr>\n",
              "      <th>1</th>\n",
              "      <td>0.111111</td>\n",
              "      <td>0.0</td>\n",
              "      <td>0.5</td>\n",
              "      <td>0.076063</td>\n",
              "      <td>0.111111</td>\n",
              "      <td>0.0</td>\n",
              "      <td>1.0</td>\n",
              "      <td>0.012285</td>\n",
              "      <td>0.015547</td>\n",
              "      <td>0.215591</td>\n",
              "      <td>0.062370</td>\n",
              "      <td>0.727273</td>\n",
              "      <td>0.990284</td>\n",
              "      <td>0.563556</td>\n",
              "      <td>0.665558</td>\n",
              "      <td>0.202864</td>\n",
              "      <td>0.0</td>\n",
              "      <td>0.0</td>\n",
              "      <td>0.0</td>\n",
              "      <td>0.666667</td>\n",
              "      <td>1.0</td>\n",
              "      <td>0.0</td>\n",
              "      <td>0.0</td>\n",
              "      <td>0.090659</td>\n",
              "      <td>0.030769</td>\n",
              "      <td>0.159393</td>\n",
              "      <td>0.181690</td>\n",
              "    </tr>\n",
              "    <tr>\n",
              "      <th>2</th>\n",
              "      <td>0.111111</td>\n",
              "      <td>0.0</td>\n",
              "      <td>0.5</td>\n",
              "      <td>0.082774</td>\n",
              "      <td>0.444444</td>\n",
              "      <td>1.0</td>\n",
              "      <td>1.0</td>\n",
              "      <td>0.013240</td>\n",
              "      <td>0.016017</td>\n",
              "      <td>0.003654</td>\n",
              "      <td>0.074844</td>\n",
              "      <td>0.090909</td>\n",
              "      <td>0.012484</td>\n",
              "      <td>0.163129</td>\n",
              "      <td>0.304272</td>\n",
              "      <td>0.420304</td>\n",
              "      <td>0.0</td>\n",
              "      <td>0.0</td>\n",
              "      <td>0.0</td>\n",
              "      <td>0.166667</td>\n",
              "      <td>0.0</td>\n",
              "      <td>0.0</td>\n",
              "      <td>0.0</td>\n",
              "      <td>0.093407</td>\n",
              "      <td>0.215385</td>\n",
              "      <td>0.055346</td>\n",
              "      <td>0.045833</td>\n",
              "    </tr>\n",
              "    <tr>\n",
              "      <th>3</th>\n",
              "      <td>0.111111</td>\n",
              "      <td>0.0</td>\n",
              "      <td>0.5</td>\n",
              "      <td>0.085011</td>\n",
              "      <td>0.111111</td>\n",
              "      <td>0.0</td>\n",
              "      <td>1.0</td>\n",
              "      <td>0.013346</td>\n",
              "      <td>0.015650</td>\n",
              "      <td>0.227771</td>\n",
              "      <td>0.195426</td>\n",
              "      <td>0.727273</td>\n",
              "      <td>0.990433</td>\n",
              "      <td>0.162867</td>\n",
              "      <td>0.304164</td>\n",
              "      <td>0.202864</td>\n",
              "      <td>0.0</td>\n",
              "      <td>0.0</td>\n",
              "      <td>0.0</td>\n",
              "      <td>0.166667</td>\n",
              "      <td>1.0</td>\n",
              "      <td>0.0</td>\n",
              "      <td>0.0</td>\n",
              "      <td>0.093407</td>\n",
              "      <td>0.215385</td>\n",
              "      <td>0.159393</td>\n",
              "      <td>0.181690</td>\n",
              "    </tr>\n",
              "    <tr>\n",
              "      <th>4</th>\n",
              "      <td>0.111111</td>\n",
              "      <td>0.0</td>\n",
              "      <td>0.5</td>\n",
              "      <td>0.087248</td>\n",
              "      <td>0.000000</td>\n",
              "      <td>1.0</td>\n",
              "      <td>1.0</td>\n",
              "      <td>0.012268</td>\n",
              "      <td>0.015615</td>\n",
              "      <td>0.079172</td>\n",
              "      <td>0.079002</td>\n",
              "      <td>0.363636</td>\n",
              "      <td>0.049579</td>\n",
              "      <td>0.958307</td>\n",
              "      <td>0.378696</td>\n",
              "      <td>0.764079</td>\n",
              "      <td>0.0</td>\n",
              "      <td>0.0</td>\n",
              "      <td>0.0</td>\n",
              "      <td>0.416667</td>\n",
              "      <td>0.0</td>\n",
              "      <td>0.0</td>\n",
              "      <td>0.0</td>\n",
              "      <td>0.096154</td>\n",
              "      <td>0.061538</td>\n",
              "      <td>0.137938</td>\n",
              "      <td>0.083844</td>\n",
              "    </tr>\n",
              "  </tbody>\n",
              "</table>\n",
              "</div>"
            ],
            "text/plain": [
              "         0    1    2         3   ...        23        24        25        26\n",
              "0  0.111111  0.0  0.5  0.073826  ...  0.090659  0.030769  0.143794  0.149041\n",
              "1  0.111111  0.0  0.5  0.076063  ...  0.090659  0.030769  0.159393  0.181690\n",
              "2  0.111111  0.0  0.5  0.082774  ...  0.093407  0.215385  0.055346  0.045833\n",
              "3  0.111111  0.0  0.5  0.085011  ...  0.093407  0.215385  0.159393  0.181690\n",
              "4  0.111111  0.0  0.5  0.087248  ...  0.096154  0.061538  0.137938  0.083844\n",
              "\n",
              "[5 rows x 27 columns]"
            ]
          },
          "metadata": {
            "tags": []
          },
          "execution_count": 25
        }
      ]
    },
    {
      "cell_type": "markdown",
      "metadata": {
        "id": "jDqjx1QC8T_E"
      },
      "source": [
        "# **Seprating class label and dropping it**"
      ]
    },
    {
      "cell_type": "code",
      "metadata": {
        "id": "QN7pgRLfE3MX"
      },
      "source": [
        "# separate the class label\n",
        "# Labels are the values we want to predict\n",
        "import numpy as np\n",
        "labels = np.array(dfm[7])\n",
        "\n",
        "dfm=dfm.drop(dfm.columns[7], axis=1)\n",
        "\n",
        "\n"
      ],
      "execution_count": null,
      "outputs": []
    },
    {
      "cell_type": "markdown",
      "metadata": {
        "id": "PYGVUG_c8J6w"
      },
      "source": [
        "# **Diving data to test and train sets**"
      ]
    },
    {
      "cell_type": "code",
      "metadata": {
        "colab": {
          "base_uri": "https://localhost:8080/"
        },
        "id": "6SmInsih9y1L",
        "outputId": "8c7593b0-4970-4db3-bf6d-75b6cedf0e8e"
      },
      "source": [
        "from sklearn.model_selection import train_test_split\n",
        "# setting the random state to 42 which means the results will be the same each time I run the split for reproducible results.\n",
        "train_instances, test_instances, train_labels, test_labels = train_test_split(dfm, labels, test_size = 0.20, random_state = 42)\n",
        "\n",
        "print('Training instances Shape:', train_instances.shape)\n",
        "print('Training Labels Shape:', train_labels.shape)\n",
        "print('Testing instances Shape:', test_instances.shape)\n",
        "print('Testing Labels Shape:', test_labels.shape)"
      ],
      "execution_count": null,
      "outputs": [
        {
          "output_type": "stream",
          "text": [
            "Training instances Shape: (3268788, 26)\n",
            "Training Labels Shape: (3268788,)\n",
            "Testing instances Shape: (817198, 26)\n",
            "Testing Labels Shape: (817198,)\n"
          ],
          "name": "stdout"
        }
      ]
    },
    {
      "cell_type": "markdown",
      "metadata": {
        "id": "o8vIDe3k88JO"
      },
      "source": [
        "# **Evaluate Results Function**"
      ]
    },
    {
      "cell_type": "code",
      "metadata": {
        "id": "2gx1n3We44U1"
      },
      "source": [
        "from sklearn.metrics import mean_squared_error, r2_score  \n",
        "from math import sqrt #for square root calculation\n",
        "\n",
        "def evaluate_results(gTestLabel, gTestPredictions):  \n",
        "\n",
        "\n",
        "    mse =  mean_squared_error(gTestLabel, gTestPredictions)\n",
        "    rmse = sqrt(mse)\n",
        "    var_score = r2_score(gTestLabel, gTestPredictions)\n",
        "\n",
        "\n",
        "    print(\"mse \" + str(mse))\n",
        "    print(\"rmse \" + str(rmse))\n",
        "    print(\"var_score \" + str(var_score))\n",
        "    \n",
        "    print('\\n')\n",
        "  #  for i in range(len(gTestLabel)):\n",
        "  #      print(\"row \" + str(i) + '\\t' + str(gTestLabel[i]) + '\\t' + str((gTestPredictions[i]))"
      ],
      "execution_count": null,
      "outputs": []
    },
    {
      "cell_type": "markdown",
      "metadata": {
        "id": "4YE9N9W18D_1"
      },
      "source": [
        "# **Applying the model**"
      ]
    },
    {
      "cell_type": "code",
      "metadata": {
        "colab": {
          "base_uri": "https://localhost:8080/"
        },
        "id": "dxisCp781Bqn",
        "outputId": "ae39847a-94f1-4411-fd88-b0d9dff87630"
      },
      "source": [
        "from sklearn import datasets, linear_model \n",
        "regr = linear_model.LinearRegression()\n",
        " \n",
        "model = regr.fit(train_instances, train_labels)\n",
        "\n",
        "# Use the predict method on the test data\n",
        "test_predictions = model.predict(test_instances)\n",
        "\n",
        "evaluate_results(test_labels, test_predictions)\n",
        "\n",
        "\n",
        "# The coefficients + Intercept\n",
        "#print('\\n\\n')\n",
        "print('Intercept: \\n', regr.intercept_)\n",
        "print('Coefficients: \\n', regr.coef_)"
      ],
      "execution_count": null,
      "outputs": [
        {
          "output_type": "stream",
          "text": [
            "mse 5.025376824922918e-07\n",
            "rmse 0.0007088989226203492\n",
            "var_score 0.9903931905323505\n",
            "\n",
            "\n",
            "Intercept: \n",
            " -0.0033279999193853403\n",
            "Coefficients: \n",
            " [ 7.34636038e-05 -2.23547753e-06 -6.55989528e-05  5.89406150e-05\n",
            "  1.45848720e-05 -5.24847535e-05 -4.14055751e-05  1.02088285e+00\n",
            "  1.12938206e-05  1.19148804e-04 -7.51446836e-05 -7.52917643e-05\n",
            "  8.47362248e-05 -2.35632417e-05 -7.02055856e-04  3.24178484e-05\n",
            "  3.01453418e-05 -1.37974608e-04  5.83016113e-06  3.71160275e-05\n",
            "  1.12938437e-06  2.62272572e-05 -1.37747271e-04 -7.36988780e-06\n",
            "  8.55044058e-05 -1.32202761e-04]\n"
          ],
          "name": "stdout"
        }
      ]
    },
    {
      "cell_type": "code",
      "metadata": {
        "id": "_wfU6G5FFF7z"
      },
      "source": [
        ""
      ],
      "execution_count": null,
      "outputs": []
    }
  ]
}